{
 "cells": [
  {
   "cell_type": "code",
   "execution_count": 4,
   "metadata": {},
   "outputs": [],
   "source": [
    "import pandas as pd\n",
    "df = pd.read_csv(\"/Users/matthewberkley/Desktop/wine-project/all_wine_type_grapes_by_county.csv\")\n",
    "df2 = pd.read_csv(\"/Users/matthewberkley/Desktop/wine-project/cchange.csv\")"
   ]
  },
  {
   "cell_type": "code",
   "execution_count": 5,
   "metadata": {},
   "outputs": [
    {
     "data": {
      "text/html": [
       "<div>\n",
       "<style scoped>\n",
       "    .dataframe tbody tr th:only-of-type {\n",
       "        vertical-align: middle;\n",
       "    }\n",
       "\n",
       "    .dataframe tbody tr th {\n",
       "        vertical-align: top;\n",
       "    }\n",
       "\n",
       "    .dataframe thead th {\n",
       "        text-align: right;\n",
       "    }\n",
       "</style>\n",
       "<table border=\"1\" class=\"dataframe\">\n",
       "  <thead>\n",
       "    <tr style=\"text-align: right;\">\n",
       "      <th></th>\n",
       "      <th>County</th>\n",
       "      <th>2011_bearing</th>\n",
       "      <th>2011_non_bearing</th>\n",
       "      <th>2011_total</th>\n",
       "      <th>2012_bearing</th>\n",
       "      <th>2012_non_bearing</th>\n",
       "      <th>2012_total</th>\n",
       "      <th>2013_bearing</th>\n",
       "      <th>2013_non_bearing</th>\n",
       "      <th>2013_total</th>\n",
       "      <th>...</th>\n",
       "      <th>2016_total</th>\n",
       "      <th>2017_bearing</th>\n",
       "      <th>2017_non_bearing</th>\n",
       "      <th>2017_total</th>\n",
       "      <th>2018_bearing</th>\n",
       "      <th>2018_non_bearing</th>\n",
       "      <th>2018_total</th>\n",
       "      <th>2019_bearing</th>\n",
       "      <th>2019_non_bearing</th>\n",
       "      <th>2019_total</th>\n",
       "    </tr>\n",
       "  </thead>\n",
       "  <tbody>\n",
       "    <tr>\n",
       "      <th>0</th>\n",
       "      <td>Alameda</td>\n",
       "      <td>2,831</td>\n",
       "      <td>18</td>\n",
       "      <td>2,849</td>\n",
       "      <td>2,811</td>\n",
       "      <td>49</td>\n",
       "      <td>2,860</td>\n",
       "      <td>2,900</td>\n",
       "      <td>32</td>\n",
       "      <td>2,931</td>\n",
       "      <td>...</td>\n",
       "      <td>2,921</td>\n",
       "      <td>2,885</td>\n",
       "      <td>34</td>\n",
       "      <td>2,920</td>\n",
       "      <td>2,892</td>\n",
       "      <td>23</td>\n",
       "      <td>2,914</td>\n",
       "      <td>2,901</td>\n",
       "      <td>28</td>\n",
       "      <td>2,928</td>\n",
       "    </tr>\n",
       "    <tr>\n",
       "      <th>1</th>\n",
       "      <td>Amador</td>\n",
       "      <td>3,088</td>\n",
       "      <td>276</td>\n",
       "      <td>3,364</td>\n",
       "      <td>3,176</td>\n",
       "      <td>178</td>\n",
       "      <td>3,354</td>\n",
       "      <td>3,325</td>\n",
       "      <td>307</td>\n",
       "      <td>3,631</td>\n",
       "      <td>...</td>\n",
       "      <td>3,641</td>\n",
       "      <td>3,570</td>\n",
       "      <td>98</td>\n",
       "      <td>3,668</td>\n",
       "      <td>3,707</td>\n",
       "      <td>57</td>\n",
       "      <td>3,764</td>\n",
       "      <td>3,569</td>\n",
       "      <td>66</td>\n",
       "      <td>3,635</td>\n",
       "    </tr>\n",
       "    <tr>\n",
       "      <th>2</th>\n",
       "      <td>Butte</td>\n",
       "      <td>166</td>\n",
       "      <td>8</td>\n",
       "      <td>174</td>\n",
       "      <td>156</td>\n",
       "      <td>33</td>\n",
       "      <td>189</td>\n",
       "      <td>165</td>\n",
       "      <td>26</td>\n",
       "      <td>192</td>\n",
       "      <td>...</td>\n",
       "      <td>169</td>\n",
       "      <td>168</td>\n",
       "      <td>5</td>\n",
       "      <td>173</td>\n",
       "      <td>167</td>\n",
       "      <td>6</td>\n",
       "      <td>174</td>\n",
       "      <td>114</td>\n",
       "      <td>6</td>\n",
       "      <td>120</td>\n",
       "    </tr>\n",
       "    <tr>\n",
       "      <th>3</th>\n",
       "      <td>Calaveras</td>\n",
       "      <td>663</td>\n",
       "      <td>12</td>\n",
       "      <td>675</td>\n",
       "      <td>666</td>\n",
       "      <td>17</td>\n",
       "      <td>683</td>\n",
       "      <td>700</td>\n",
       "      <td>12</td>\n",
       "      <td>713</td>\n",
       "      <td>...</td>\n",
       "      <td>696</td>\n",
       "      <td>667</td>\n",
       "      <td>20</td>\n",
       "      <td>686</td>\n",
       "      <td>676</td>\n",
       "      <td>19</td>\n",
       "      <td>695</td>\n",
       "      <td>712</td>\n",
       "      <td>10</td>\n",
       "      <td>721</td>\n",
       "    </tr>\n",
       "    <tr>\n",
       "      <th>4</th>\n",
       "      <td>Colusa</td>\n",
       "      <td>1,577</td>\n",
       "      <td>0</td>\n",
       "      <td>1,577</td>\n",
       "      <td>1,577</td>\n",
       "      <td>0</td>\n",
       "      <td>1,577</td>\n",
       "      <td>1,573</td>\n",
       "      <td>0</td>\n",
       "      <td>1,573</td>\n",
       "      <td>...</td>\n",
       "      <td>1,496</td>\n",
       "      <td>1,496</td>\n",
       "      <td>0</td>\n",
       "      <td>1,496</td>\n",
       "      <td>1,442</td>\n",
       "      <td>10</td>\n",
       "      <td>1,452</td>\n",
       "      <td>692</td>\n",
       "      <td>347</td>\n",
       "      <td>1,040</td>\n",
       "    </tr>\n",
       "  </tbody>\n",
       "</table>\n",
       "<p>5 rows × 28 columns</p>\n",
       "</div>"
      ],
      "text/plain": [
       "      County 2011_bearing 2011_non_bearing 2011_total 2012_bearing  \\\n",
       "0    Alameda        2,831               18      2,849        2,811   \n",
       "1     Amador        3,088              276      3,364        3,176   \n",
       "2      Butte          166                8        174          156   \n",
       "3  Calaveras          663               12        675          666   \n",
       "4     Colusa        1,577                0      1,577        1,577   \n",
       "\n",
       "  2012_non_bearing 2012_total 2013_bearing 2013_non_bearing 2013_total  ...  \\\n",
       "0               49      2,860        2,900               32      2,931  ...   \n",
       "1              178      3,354        3,325              307      3,631  ...   \n",
       "2               33        189          165               26        192  ...   \n",
       "3               17        683          700               12        713  ...   \n",
       "4                0      1,577        1,573                0      1,573  ...   \n",
       "\n",
       "  2016_total 2017_bearing 2017_non_bearing 2017_total 2018_bearing  \\\n",
       "0      2,921        2,885               34      2,920        2,892   \n",
       "1      3,641        3,570               98      3,668        3,707   \n",
       "2        169          168                5        173          167   \n",
       "3        696          667               20        686          676   \n",
       "4      1,496        1,496                0      1,496        1,442   \n",
       "\n",
       "  2018_non_bearing 2018_total 2019_bearing 2019_non_bearing 2019_total  \n",
       "0               23      2,914        2,901               28      2,928  \n",
       "1               57      3,764        3,569               66      3,635  \n",
       "2                6        174          114                6        120  \n",
       "3               19        695          712               10        721  \n",
       "4               10      1,452          692              347      1,040  \n",
       "\n",
       "[5 rows x 28 columns]"
      ]
     },
     "execution_count": 5,
     "metadata": {},
     "output_type": "execute_result"
    }
   ],
   "source": [
    "df.head()"
   ]
  },
  {
   "cell_type": "code",
   "execution_count": 18,
   "metadata": {},
   "outputs": [],
   "source": [
    "df_clean = df.drop([\"2011_non_bearing\", \"2011_total\",\"2012_non_bearing\", \"2012_total\",\"2013_non_bearing\", \"2013_total\",\"2014_non_bearing\", \"2014_total\",\"2015_non_bearing\", \"2015_total\",\"2016_non_bearing\", \"2016_total\",\"2017_non_bearing\", \"2017_total\",\"2018_non_bearing\", \"2018_total\",\"2019_non_bearing\", \"2019_total\",], axis=1)"
   ]
  },
  {
   "cell_type": "code",
   "execution_count": 41,
   "metadata": {},
   "outputs": [],
   "source": [
    "alameda = df_clean[:1].head()"
   ]
  },
  {
   "cell_type": "code",
   "execution_count": 42,
   "metadata": {},
   "outputs": [
    {
     "data": {
      "text/html": [
       "<div>\n",
       "<style scoped>\n",
       "    .dataframe tbody tr th:only-of-type {\n",
       "        vertical-align: middle;\n",
       "    }\n",
       "\n",
       "    .dataframe tbody tr th {\n",
       "        vertical-align: top;\n",
       "    }\n",
       "\n",
       "    .dataframe thead th {\n",
       "        text-align: right;\n",
       "    }\n",
       "</style>\n",
       "<table border=\"1\" class=\"dataframe\">\n",
       "  <thead>\n",
       "    <tr style=\"text-align: right;\">\n",
       "      <th></th>\n",
       "      <th>County</th>\n",
       "      <th>2011_bearing</th>\n",
       "      <th>2012_bearing</th>\n",
       "      <th>2013_bearing</th>\n",
       "      <th>2014_bearing</th>\n",
       "      <th>2015_bearing</th>\n",
       "      <th>2016_bearing</th>\n",
       "      <th>2017_bearing</th>\n",
       "      <th>2018_bearing</th>\n",
       "      <th>2019_bearing</th>\n",
       "    </tr>\n",
       "  </thead>\n",
       "  <tbody>\n",
       "    <tr>\n",
       "      <th>0</th>\n",
       "      <td>Alameda</td>\n",
       "      <td>2,831</td>\n",
       "      <td>2,811</td>\n",
       "      <td>2,900</td>\n",
       "      <td>2,917</td>\n",
       "      <td>2,931</td>\n",
       "      <td>2,885</td>\n",
       "      <td>2,885</td>\n",
       "      <td>2,892</td>\n",
       "      <td>2,901</td>\n",
       "    </tr>\n",
       "  </tbody>\n",
       "</table>\n",
       "</div>"
      ],
      "text/plain": [
       "    County 2011_bearing 2012_bearing 2013_bearing 2014_bearing 2015_bearing  \\\n",
       "0  Alameda        2,831        2,811        2,900        2,917        2,931   \n",
       "\n",
       "  2016_bearing 2017_bearing 2018_bearing 2019_bearing  \n",
       "0        2,885        2,885        2,892        2,901  "
      ]
     },
     "execution_count": 42,
     "metadata": {},
     "output_type": "execute_result"
    }
   ],
   "source": [
    "alameda.head()"
   ]
  },
  {
   "cell_type": "code",
   "execution_count": 28,
   "metadata": {},
   "outputs": [
    {
     "data": {
      "text/plain": [
       "0    True\n",
       "1    True\n",
       "2    True\n",
       "3    True\n",
       "4    True\n",
       "Name: County, dtype: bool"
      ]
     },
     "execution_count": 28,
     "metadata": {},
     "output_type": "execute_result"
    }
   ],
   "source": []
  },
  {
   "cell_type": "code",
   "execution_count": 8,
   "metadata": {},
   "outputs": [
    {
     "data": {
      "text/html": [
       "<div>\n",
       "<style scoped>\n",
       "    .dataframe tbody tr th:only-of-type {\n",
       "        vertical-align: middle;\n",
       "    }\n",
       "\n",
       "    .dataframe tbody tr th {\n",
       "        vertical-align: top;\n",
       "    }\n",
       "\n",
       "    .dataframe thead th {\n",
       "        text-align: right;\n",
       "    }\n",
       "</style>\n",
       "<table border=\"1\" class=\"dataframe\">\n",
       "  <thead>\n",
       "    <tr style=\"text-align: right;\">\n",
       "      <th></th>\n",
       "      <th>County</th>\n",
       "      <th>Change</th>\n",
       "    </tr>\n",
       "  </thead>\n",
       "  <tbody>\n",
       "    <tr>\n",
       "      <th>0</th>\n",
       "      <td>Amador</td>\n",
       "      <td>0.8</td>\n",
       "    </tr>\n",
       "    <tr>\n",
       "      <th>1</th>\n",
       "      <td>El Dorado</td>\n",
       "      <td>0.8</td>\n",
       "    </tr>\n",
       "    <tr>\n",
       "      <th>2</th>\n",
       "      <td>Calaveras</td>\n",
       "      <td>0.9</td>\n",
       "    </tr>\n",
       "    <tr>\n",
       "      <th>3</th>\n",
       "      <td>Mendocino</td>\n",
       "      <td>1.0</td>\n",
       "    </tr>\n",
       "    <tr>\n",
       "      <th>4</th>\n",
       "      <td>Nevada</td>\n",
       "      <td>1.0</td>\n",
       "    </tr>\n",
       "  </tbody>\n",
       "</table>\n",
       "</div>"
      ],
      "text/plain": [
       "      County  Change\n",
       "0     Amador     0.8\n",
       "1  El Dorado     0.8\n",
       "2  Calaveras     0.9\n",
       "3  Mendocino     1.0\n",
       "4     Nevada     1.0"
      ]
     },
     "execution_count": 8,
     "metadata": {},
     "output_type": "execute_result"
    }
   ],
   "source": [
    "df2.head()"
   ]
  },
  {
   "cell_type": "code",
   "execution_count": null,
   "metadata": {},
   "outputs": [],
   "source": []
  },
  {
   "cell_type": "code",
   "execution_count": 9,
   "metadata": {},
   "outputs": [
    {
     "data": {
      "text/plain": [
       "LinearRegression(copy_X=True, fit_intercept=True, n_jobs=None, normalize=False)"
      ]
     },
     "execution_count": 9,
     "metadata": {},
     "output_type": "execute_result"
    }
   ],
   "source": [
    "from sklearn.linear_model import LinearRegression\n",
    "model = LinearRegression()\n",
    "model"
   ]
  },
  {
   "cell_type": "code",
   "execution_count": null,
   "metadata": {},
   "outputs": [],
   "source": []
  }
 ],
 "metadata": {
  "kernelspec": {
   "display_name": "Python 3",
   "language": "python",
   "name": "python3"
  },
  "language_info": {
   "codemirror_mode": {
    "name": "ipython",
    "version": 3
   },
   "file_extension": ".py",
   "mimetype": "text/x-python",
   "name": "python",
   "nbconvert_exporter": "python",
   "pygments_lexer": "ipython3",
   "version": "3.7.6"
  },
  "widgets": {
   "application/vnd.jupyter.widget-state+json": {
    "state": {},
    "version_major": 2,
    "version_minor": 0
   }
  }
 },
 "nbformat": 4,
 "nbformat_minor": 4
}
