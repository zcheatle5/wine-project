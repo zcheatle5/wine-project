{
 "cells": [
  {
   "cell_type": "code",
   "execution_count": 1,
   "metadata": {},
   "outputs": [],
   "source": [
    "import pandas as pd\n",
    "import numpy as np\n",
    "import os\n",
    "import csv"
   ]
  },
  {
   "cell_type": "code",
   "execution_count": 34,
   "metadata": {},
   "outputs": [],
   "source": [
    "path19 = os.path.join('.', 'Resources', 'air quality 2019.csv')\n",
    "path18 = os.path.join('.', 'Resources', 'air quality 2018.csv')\n",
    "path17 = os.path.join('.', 'Resources', 'air quality 2017.csv')\n",
    "path16 = os.path.join('.', 'Resources', 'air quality 2016.csv')\n",
    "path15 = os.path.join('.', 'Resources', 'air quality 2015.csv')\n",
    "path14 = os.path.join('.', 'Resources', 'air quality 2014.csv')\n",
    "path13 = os.path.join('.', 'Resources', 'air quality 2013.csv')\n",
    "path12 = os.path.join('.', 'Resources', 'air quality 2012.csv')\n",
    "path11 = os.path.join('.', 'Resources', 'air quality 2011.csv')"
   ]
  },
  {
   "cell_type": "code",
   "execution_count": 35,
   "metadata": {},
   "outputs": [],
   "source": [
    "file_19 = pd.read_csv(path19)\n",
    "file_18 = pd.read_csv(path18)\n",
    "file_17 = pd.read_csv(path17)\n",
    "file_16 = pd.read_csv(path16)\n",
    "file_15 = pd.read_csv(path15)\n",
    "file_14 = pd.read_csv(path14)\n",
    "file_13 = pd.read_csv(path13)\n",
    "file_12 = pd.read_csv(path12)\n",
    "file_11 = pd.read_csv(path11)"
   ]
  },
  {
   "cell_type": "code",
   "execution_count": 36,
   "metadata": {},
   "outputs": [],
   "source": [
    "file_19 = file_19.fillna(0)\n",
    "file_18 = file_18.fillna(0)\n",
    "file_17 = file_17.fillna(0)\n",
    "file_16 = file_16.fillna(0)\n",
    "file_15 = file_15.fillna(0)\n",
    "file_14 = file_14.fillna(0)\n",
    "file_13 = file_13.fillna(0)\n",
    "file_12 = file_12.fillna(0)\n",
    "file_11 = file_11.fillna(0)"
   ]
  },
  {
   "cell_type": "code",
   "execution_count": 37,
   "metadata": {},
   "outputs": [],
   "source": [
    "file19_df = file_19.loc[file_19[\"State\"] == \"California\", :]\n",
    "file18_df = file_18.loc[file_18[\"State\"] == \"California\", :]\n",
    "file17_df = file_17.loc[file_17[\"State\"] == \"California\", :]\n",
    "file16_df = file_16.loc[file_16[\"State\"] == \"California\", :]\n",
    "file15_df = file_15.loc[file_15[\"State\"] == \"California\", :]\n",
    "file14_df = file_14.loc[file_14[\"State\"] == \"California\", :]\n",
    "file13_df = file_13.loc[file_13[\"State\"] == \"California\", :]\n",
    "file12_df = file_12.loc[file_12[\"State\"] == \"California\", :]\n",
    "file11_df = file_11.loc[file_11[\"State\"] == \"California\", :]"
   ]
  },
  {
   "cell_type": "code",
   "execution_count": 40,
   "metadata": {},
   "outputs": [
    {
     "data": {
      "text/html": [
       "<div>\n",
       "<style scoped>\n",
       "    .dataframe tbody tr th:only-of-type {\n",
       "        vertical-align: middle;\n",
       "    }\n",
       "\n",
       "    .dataframe tbody tr th {\n",
       "        vertical-align: top;\n",
       "    }\n",
       "\n",
       "    .dataframe thead th {\n",
       "        text-align: right;\n",
       "    }\n",
       "</style>\n",
       "<table border=\"1\" class=\"dataframe\">\n",
       "  <thead>\n",
       "    <tr style=\"text-align: right;\">\n",
       "      <th></th>\n",
       "      <th>State</th>\n",
       "      <th>County</th>\n",
       "      <th>Year</th>\n",
       "      <th>Days Ozone</th>\n",
       "    </tr>\n",
       "  </thead>\n",
       "  <tbody>\n",
       "    <tr>\n",
       "      <th>0</th>\n",
       "      <td>California</td>\n",
       "      <td>Alameda</td>\n",
       "      <td>2019</td>\n",
       "      <td>175</td>\n",
       "    </tr>\n",
       "    <tr>\n",
       "      <th>1</th>\n",
       "      <td>California</td>\n",
       "      <td>Amador</td>\n",
       "      <td>2019</td>\n",
       "      <td>355</td>\n",
       "    </tr>\n",
       "    <tr>\n",
       "      <th>2</th>\n",
       "      <td>California</td>\n",
       "      <td>Butte</td>\n",
       "      <td>2019</td>\n",
       "      <td>231</td>\n",
       "    </tr>\n",
       "    <tr>\n",
       "      <th>3</th>\n",
       "      <td>California</td>\n",
       "      <td>Calaveras</td>\n",
       "      <td>2019</td>\n",
       "      <td>322</td>\n",
       "    </tr>\n",
       "    <tr>\n",
       "      <th>4</th>\n",
       "      <td>California</td>\n",
       "      <td>Colusa</td>\n",
       "      <td>2019</td>\n",
       "      <td>228</td>\n",
       "    </tr>\n",
       "    <tr>\n",
       "      <th>...</th>\n",
       "      <td>...</td>\n",
       "      <td>...</td>\n",
       "      <td>...</td>\n",
       "      <td>...</td>\n",
       "    </tr>\n",
       "    <tr>\n",
       "      <th>478</th>\n",
       "      <td>California</td>\n",
       "      <td>Trinity</td>\n",
       "      <td>2011</td>\n",
       "      <td>0</td>\n",
       "    </tr>\n",
       "    <tr>\n",
       "      <th>479</th>\n",
       "      <td>California</td>\n",
       "      <td>Tulare</td>\n",
       "      <td>2011</td>\n",
       "      <td>208</td>\n",
       "    </tr>\n",
       "    <tr>\n",
       "      <th>480</th>\n",
       "      <td>California</td>\n",
       "      <td>Tuolumne</td>\n",
       "      <td>2011</td>\n",
       "      <td>355</td>\n",
       "    </tr>\n",
       "    <tr>\n",
       "      <th>481</th>\n",
       "      <td>California</td>\n",
       "      <td>Ventura</td>\n",
       "      <td>2011</td>\n",
       "      <td>333</td>\n",
       "    </tr>\n",
       "    <tr>\n",
       "      <th>482</th>\n",
       "      <td>California</td>\n",
       "      <td>Yolo</td>\n",
       "      <td>2011</td>\n",
       "      <td>164</td>\n",
       "    </tr>\n",
       "  </tbody>\n",
       "</table>\n",
       "<p>483 rows × 4 columns</p>\n",
       "</div>"
      ],
      "text/plain": [
       "          State     County  Year  Days Ozone\n",
       "0    California    Alameda  2019         175\n",
       "1    California     Amador  2019         355\n",
       "2    California      Butte  2019         231\n",
       "3    California  Calaveras  2019         322\n",
       "4    California     Colusa  2019         228\n",
       "..          ...        ...   ...         ...\n",
       "478  California    Trinity  2011           0\n",
       "479  California     Tulare  2011         208\n",
       "480  California   Tuolumne  2011         355\n",
       "481  California    Ventura  2011         333\n",
       "482  California       Yolo  2011         164\n",
       "\n",
       "[483 rows x 4 columns]"
      ]
     },
     "execution_count": 40,
     "metadata": {},
     "output_type": "execute_result"
    }
   ],
   "source": [
    "merge_df = pd.concat([file19_df,file18_df, file17_df, file16_df, file15_df, file14_df, file13_df, file12_df, file11_df], axis=0, ignore_index=True)\n",
    "merge_df = merge_df.drop([\"Days with AQI\", \"Good Days\", \"Moderate Days\", \"Unhealthy for Sensitive Groups Days\", \"Unhealthy Days\", \"Very Unhealthy Days\", \"Hazardous Days\", \"Max AQI\", \"90th Percentile AQI\", \"Median AQI\", \"Days CO\", \"Days SO2\", \"Days PM2.5\", \"Days PM10\", \"Days NO2\"], axis=1)\n",
    "merge_df"
   ]
  },
  {
   "cell_type": "code",
   "execution_count": null,
   "metadata": {},
   "outputs": [],
   "source": [
    "file11_df = file_11.loc[file_11[\"State\"] == \"California\", :]\n",
    "merged_Ozone = merge_df.loc[merge_df[\"\"]]"
   ]
  }
 ],
 "metadata": {
  "kernelspec": {
   "display_name": "Python 3",
   "language": "python",
   "name": "python3"
  },
  "language_info": {
   "codemirror_mode": {
    "name": "ipython",
    "version": 3
   },
   "file_extension": ".py",
   "mimetype": "text/x-python",
   "name": "python",
   "nbconvert_exporter": "python",
   "pygments_lexer": "ipython3",
   "version": "3.7.6"
  }
 },
 "nbformat": 4,
 "nbformat_minor": 4
}
